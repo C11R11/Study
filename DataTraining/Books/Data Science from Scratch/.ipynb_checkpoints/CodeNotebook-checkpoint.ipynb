{
 "cells": [
  {
   "cell_type": "markdown",
   "metadata": {},
   "source": [
    "# Chapter 1. Introduction"
   ]
  },
  {
   "cell_type": "code",
   "execution_count": 1,
   "metadata": {},
   "outputs": [],
   "source": [
    "users=[ {\"id\":0,\"name\":\"Hero\"}, {\"id\":1,\"name\":\"Dunn\"}, {\"id\":2,\"name\":\"Sue\"}, {\"id\":3,\"name\":\"Chi\"}, {\"id\":4,\"name\":\"Thor\"}, {\"id\":5,\"name\":\"Clive\"}, {\"id\":6,\"name\":\"Hicks\"}, {\"id\":7,\"name\":\"Devin\"}, {\"id\":8,\"name\":\"Kate\"}, {\"id\":9,\"name\":\"Klein\"} ]"
   ]
  },
  {
   "cell_type": "code",
   "execution_count": null,
   "metadata": {},
   "outputs": [],
   "source": []
  }
 ],
 "metadata": {
  "kernelspec": {
   "display_name": "Python 3 (ipykernel)",
   "language": "python",
   "name": "python3"
  },
  "language_info": {
   "codemirror_mode": {
    "name": "ipython",
    "version": 3
   },
   "file_extension": ".py",
   "mimetype": "text/x-python",
   "name": "python",
   "nbconvert_exporter": "python",
   "pygments_lexer": "ipython3",
   "version": "3.9.13"
  }
 },
 "nbformat": 4,
 "nbformat_minor": 2
}
